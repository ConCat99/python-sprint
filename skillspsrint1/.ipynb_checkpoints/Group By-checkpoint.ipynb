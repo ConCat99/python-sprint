{
 "cells": [
  {
   "cell_type": "code",
   "execution_count": 2,
   "id": "eb8bc115-4e10-4684-8a40-b10a5fa309a2",
   "metadata": {},
   "outputs": [],
   "source": [
    "import pandas as pd"
   ]
  },
  {
   "cell_type": "code",
   "execution_count": 3,
   "id": "a8ae16ac-b10e-4ea4-b311-bc90652c36af",
   "metadata": {},
   "outputs": [
    {
     "data": {
      "text/html": [
       "<div>\n",
       "<style scoped>\n",
       "    .dataframe tbody tr th:only-of-type {\n",
       "        vertical-align: middle;\n",
       "    }\n",
       "\n",
       "    .dataframe tbody tr th {\n",
       "        vertical-align: top;\n",
       "    }\n",
       "\n",
       "    .dataframe thead th {\n",
       "        text-align: right;\n",
       "    }\n",
       "</style>\n",
       "<table border=\"1\" class=\"dataframe\">\n",
       "  <thead>\n",
       "    <tr style=\"text-align: right;\">\n",
       "      <th></th>\n",
       "      <th>Car_num</th>\n",
       "      <th>Brand</th>\n",
       "      <th>Mod</th>\n",
       "      <th>Yr</th>\n",
       "      <th>Money</th>\n",
       "      <th>Miles</th>\n",
       "      <th>Color</th>\n",
       "    </tr>\n",
       "  </thead>\n",
       "  <tbody>\n",
       "    <tr>\n",
       "      <th>0</th>\n",
       "      <td>CAR001</td>\n",
       "      <td>Honda</td>\n",
       "      <td>Coupe</td>\n",
       "      <td>2022</td>\n",
       "      <td>NaN</td>\n",
       "      <td>197300.0</td>\n",
       "      <td>White</td>\n",
       "    </tr>\n",
       "    <tr>\n",
       "      <th>1</th>\n",
       "      <td>CAR002</td>\n",
       "      <td>Chevrolet</td>\n",
       "      <td>Coupe</td>\n",
       "      <td>2009</td>\n",
       "      <td>42065.0</td>\n",
       "      <td>119752.0</td>\n",
       "      <td>Blue</td>\n",
       "    </tr>\n",
       "    <tr>\n",
       "      <th>2</th>\n",
       "      <td>CAR003</td>\n",
       "      <td>BMW</td>\n",
       "      <td>SUV</td>\n",
       "      <td>2022</td>\n",
       "      <td>31557.0</td>\n",
       "      <td>53984.0</td>\n",
       "      <td>Red</td>\n",
       "    </tr>\n",
       "    <tr>\n",
       "      <th>3</th>\n",
       "      <td>CAR004</td>\n",
       "      <td>Chevrolet</td>\n",
       "      <td>Hatchback</td>\n",
       "      <td>2001</td>\n",
       "      <td>38763.0</td>\n",
       "      <td>45774.0</td>\n",
       "      <td>Yellow</td>\n",
       "    </tr>\n",
       "    <tr>\n",
       "      <th>4</th>\n",
       "      <td>CAR005</td>\n",
       "      <td>Chevrolet</td>\n",
       "      <td>Hatchback</td>\n",
       "      <td>2006</td>\n",
       "      <td>37606.0</td>\n",
       "      <td>7568.0</td>\n",
       "      <td>Green</td>\n",
       "    </tr>\n",
       "  </tbody>\n",
       "</table>\n",
       "</div>"
      ],
      "text/plain": [
       "  Car_num      Brand        Mod    Yr    Money     Miles   Color\n",
       "0  CAR001      Honda      Coupe  2022      NaN  197300.0   White\n",
       "1  CAR002  Chevrolet      Coupe  2009  42065.0  119752.0    Blue\n",
       "2  CAR003        BMW        SUV  2022  31557.0   53984.0     Red\n",
       "3  CAR004  Chevrolet  Hatchback  2001  38763.0   45774.0  Yellow\n",
       "4  CAR005  Chevrolet  Hatchback  2006  37606.0    7568.0   Green"
      ]
     },
     "execution_count": 3,
     "metadata": {},
     "output_type": "execute_result"
    }
   ],
   "source": [
    "df = pd.read_csv(\"messy_cars.csv\")\n",
    "df.head(5)"
   ]
  },
  {
   "cell_type": "code",
   "execution_count": null,
   "id": "16f6f09d-09a2-4972-9b3d-73672df7cfd9",
   "metadata": {},
   "outputs": [],
   "source": [
    "##GROUP BY & Multiple Agregations"
   ]
  },
  {
   "cell_type": "code",
   "execution_count": 6,
   "id": "e8780a50-615d-48de-a657-8f4a21cfe229",
   "metadata": {},
   "outputs": [
    {
     "data": {
      "text/plain": [
       "Brand\n",
       "BMW          113058.8\n",
       "Chevrolet     90362.6\n",
       "Ford          97328.0\n",
       "Honda        109335.5\n",
       "Toyota        20527.0\n",
       "Name: Miles, dtype: float64"
      ]
     },
     "execution_count": 6,
     "metadata": {},
     "output_type": "execute_result"
    }
   ],
   "source": [
    "# group by brand and select one column before the  agregation\n",
    "brand_group = df.groupby(\"Brand\")[\"Miles\"].mean()\n",
    "brand_group.head()"
   ]
  },
  {
   "cell_type": "code",
   "execution_count": 7,
   "id": "1349a797-7472-42bf-bbda-977f93d2a161",
   "metadata": {},
   "outputs": [
    {
     "data": {
      "text/html": [
       "<div>\n",
       "<style scoped>\n",
       "    .dataframe tbody tr th:only-of-type {\n",
       "        vertical-align: middle;\n",
       "    }\n",
       "\n",
       "    .dataframe tbody tr th {\n",
       "        vertical-align: top;\n",
       "    }\n",
       "\n",
       "    .dataframe thead th {\n",
       "        text-align: right;\n",
       "    }\n",
       "</style>\n",
       "<table border=\"1\" class=\"dataframe\">\n",
       "  <thead>\n",
       "    <tr style=\"text-align: right;\">\n",
       "      <th></th>\n",
       "      <th>Brand</th>\n",
       "      <th>Avg_mileage</th>\n",
       "    </tr>\n",
       "  </thead>\n",
       "  <tbody>\n",
       "    <tr>\n",
       "      <th>0</th>\n",
       "      <td>BMW</td>\n",
       "      <td>113058.8</td>\n",
       "    </tr>\n",
       "    <tr>\n",
       "      <th>1</th>\n",
       "      <td>Chevrolet</td>\n",
       "      <td>90362.6</td>\n",
       "    </tr>\n",
       "    <tr>\n",
       "      <th>2</th>\n",
       "      <td>Ford</td>\n",
       "      <td>97328.0</td>\n",
       "    </tr>\n",
       "    <tr>\n",
       "      <th>3</th>\n",
       "      <td>Honda</td>\n",
       "      <td>109335.5</td>\n",
       "    </tr>\n",
       "    <tr>\n",
       "      <th>4</th>\n",
       "      <td>Toyota</td>\n",
       "      <td>20527.0</td>\n",
       "    </tr>\n",
       "  </tbody>\n",
       "</table>\n",
       "</div>"
      ],
      "text/plain": [
       "       Brand  Avg_mileage\n",
       "0        BMW     113058.8\n",
       "1  Chevrolet      90362.6\n",
       "2       Ford      97328.0\n",
       "3      Honda     109335.5\n",
       "4     Toyota      20527.0"
      ]
     },
     "execution_count": 7,
     "metadata": {},
     "output_type": "execute_result"
    }
   ],
   "source": [
    "brand_group = df.groupby(\"Brand\")[\"Miles\"].mean().reset_index(name=\"Avg_mileage\")\n",
    "brand_group.head()"
   ]
  },
  {
   "cell_type": "code",
   "execution_count": 13,
   "id": "95d1df8a-cdfc-46a0-bfb6-ddc4e14512cd",
   "metadata": {},
   "outputs": [
    {
     "data": {
      "text/html": [
       "<div>\n",
       "<style scoped>\n",
       "    .dataframe tbody tr th:only-of-type {\n",
       "        vertical-align: middle;\n",
       "    }\n",
       "\n",
       "    .dataframe tbody tr th {\n",
       "        vertical-align: top;\n",
       "    }\n",
       "\n",
       "    .dataframe thead th {\n",
       "        text-align: right;\n",
       "    }\n",
       "</style>\n",
       "<table border=\"1\" class=\"dataframe\">\n",
       "  <thead>\n",
       "    <tr style=\"text-align: right;\">\n",
       "      <th></th>\n",
       "      <th>Brand</th>\n",
       "      <th>avg_price</th>\n",
       "      <th>avg_mileage</th>\n",
       "      <th>total_cars</th>\n",
       "    </tr>\n",
       "  </thead>\n",
       "  <tbody>\n",
       "    <tr>\n",
       "      <th>0</th>\n",
       "      <td>BMW</td>\n",
       "      <td>31653.333333</td>\n",
       "      <td>129375.0</td>\n",
       "      <td>5</td>\n",
       "    </tr>\n",
       "    <tr>\n",
       "      <th>1</th>\n",
       "      <td>Chevrolet</td>\n",
       "      <td>36670.250000</td>\n",
       "      <td>109488.0</td>\n",
       "      <td>5</td>\n",
       "    </tr>\n",
       "    <tr>\n",
       "      <th>2</th>\n",
       "      <td>Ford</td>\n",
       "      <td>29977.666667</td>\n",
       "      <td>97328.0</td>\n",
       "      <td>3</td>\n",
       "    </tr>\n",
       "    <tr>\n",
       "      <th>3</th>\n",
       "      <td>Honda</td>\n",
       "      <td>25653.800000</td>\n",
       "      <td>104094.0</td>\n",
       "      <td>6</td>\n",
       "    </tr>\n",
       "    <tr>\n",
       "      <th>4</th>\n",
       "      <td>Toyota</td>\n",
       "      <td>49629.000000</td>\n",
       "      <td>20527.0</td>\n",
       "      <td>2</td>\n",
       "    </tr>\n",
       "  </tbody>\n",
       "</table>\n",
       "</div>"
      ],
      "text/plain": [
       "       Brand     avg_price  avg_mileage  total_cars\n",
       "0        BMW  31653.333333     129375.0           5\n",
       "1  Chevrolet  36670.250000     109488.0           5\n",
       "2       Ford  29977.666667      97328.0           3\n",
       "3      Honda  25653.800000     104094.0           6\n",
       "4     Toyota  49629.000000      20527.0           2"
      ]
     },
     "execution_count": 13,
     "metadata": {},
     "output_type": "execute_result"
    }
   ],
   "source": [
    "# multiple aggregations on brand , money, car_num\n",
    "\n",
    "multi_group = df.groupby(\"Brand\").agg(\n",
    "    avg_price=(\"Money\",\"mean\"),\n",
    "    avg_mileage=(\"Miles\",\"median\"),\n",
    "    total_cars=(\"Car_num\",\"count\")\n",
    ").reset_index()\n",
    "multi_group.head()"
   ]
  },
  {
   "cell_type": "code",
   "execution_count": 14,
   "id": "92060266-9a7f-4e93-aef6-ea28beaade54",
   "metadata": {},
   "outputs": [
    {
     "data": {
      "text/html": [
       "<div>\n",
       "<style scoped>\n",
       "    .dataframe tbody tr th:only-of-type {\n",
       "        vertical-align: middle;\n",
       "    }\n",
       "\n",
       "    .dataframe tbody tr th {\n",
       "        vertical-align: top;\n",
       "    }\n",
       "\n",
       "    .dataframe thead th {\n",
       "        text-align: right;\n",
       "    }\n",
       "</style>\n",
       "<table border=\"1\" class=\"dataframe\">\n",
       "  <thead>\n",
       "    <tr style=\"text-align: right;\">\n",
       "      <th></th>\n",
       "      <th>Mod</th>\n",
       "      <th>Color</th>\n",
       "      <th>avg_price</th>\n",
       "      <th>total_cars</th>\n",
       "    </tr>\n",
       "  </thead>\n",
       "  <tbody>\n",
       "    <tr>\n",
       "      <th>0</th>\n",
       "      <td>Convertible</td>\n",
       "      <td>Blue</td>\n",
       "      <td>44976.0</td>\n",
       "      <td>1</td>\n",
       "    </tr>\n",
       "    <tr>\n",
       "      <th>1</th>\n",
       "      <td>Convertible</td>\n",
       "      <td>Red</td>\n",
       "      <td>29253.0</td>\n",
       "      <td>1</td>\n",
       "    </tr>\n",
       "    <tr>\n",
       "      <th>2</th>\n",
       "      <td>Coupe</td>\n",
       "      <td>Black</td>\n",
       "      <td>22905.0</td>\n",
       "      <td>2</td>\n",
       "    </tr>\n",
       "    <tr>\n",
       "      <th>3</th>\n",
       "      <td>Coupe</td>\n",
       "      <td>Blue</td>\n",
       "      <td>42065.0</td>\n",
       "      <td>1</td>\n",
       "    </tr>\n",
       "    <tr>\n",
       "      <th>4</th>\n",
       "      <td>Coupe</td>\n",
       "      <td>White</td>\n",
       "      <td>NaN</td>\n",
       "      <td>1</td>\n",
       "    </tr>\n",
       "  </tbody>\n",
       "</table>\n",
       "</div>"
      ],
      "text/plain": [
       "           Mod  Color  avg_price  total_cars\n",
       "0  Convertible   Blue    44976.0           1\n",
       "1  Convertible    Red    29253.0           1\n",
       "2        Coupe  Black    22905.0           2\n",
       "3        Coupe   Blue    42065.0           1\n",
       "4        Coupe  White        NaN           1"
      ]
     },
     "execution_count": 14,
     "metadata": {},
     "output_type": "execute_result"
    }
   ],
   "source": [
    "# multiple aggregations on multiple columns\n",
    "\n",
    "multiple_cols = df.groupby([\"Mod\", \"Color\"]).agg(\n",
    "    avg_price = (\"Money\", \"mean\"),\n",
    "    total_cars = (\"Car_num\", \"count\")\n",
    ").reset_index()\n",
    "\n",
    "multiple_cols.head()"
   ]
  },
  {
   "cell_type": "code",
   "execution_count": 21,
   "id": "a7287a5c-21b4-484b-a47b-cabb6a792ab3",
   "metadata": {},
   "outputs": [
    {
     "data": {
      "text/plain": [
       "Brand\n",
       "BMW          34127.0\n",
       "Chevrolet    42065.0\n",
       "Ford         44099.0\n",
       "Honda        44976.0\n",
       "Toyota       56214.0\n",
       "Name: Money, dtype: float64"
      ]
     },
     "execution_count": 21,
     "metadata": {},
     "output_type": "execute_result"
    }
   ],
   "source": [
    "# Group by color and calculate the average milage\n",
    "colour_group = df.groupby([\"Color\"]).agg(avg_mileage = (\"Miles\", \"mean\"))\n",
    "colour_group.head(5)\n",
    "\n",
    "# Groud by brand and calculate the maximum price\n",
    "brand_group = df.groupby([\"Brand\"])[\"Money\"].max()\n",
    "brand_group.head(5)\n",
    "\n",
    "# Group by brand and color and count how many cars are in each combination\n",
    "brand\n",
    "\n",
    "# Group by brand and calculate both the average milage and total monet spent in one .agg()"
   ]
  },
  {
   "cell_type": "code",
   "execution_count": null,
   "id": "7adefb80-3988-40d0-b3ee-a56807fcffb1",
   "metadata": {},
   "outputs": [],
   "source": []
  }
 ],
 "metadata": {
  "kernelspec": {
   "display_name": "Python 3 (ipykernel)",
   "language": "python",
   "name": "python3"
  },
  "language_info": {
   "codemirror_mode": {
    "name": "ipython",
    "version": 3
   },
   "file_extension": ".py",
   "mimetype": "text/x-python",
   "name": "python",
   "nbconvert_exporter": "python",
   "pygments_lexer": "ipython3",
   "version": "3.13.7"
  }
 },
 "nbformat": 4,
 "nbformat_minor": 5
}
