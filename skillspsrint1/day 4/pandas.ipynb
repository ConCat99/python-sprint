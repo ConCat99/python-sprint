{
 "cells": [
  {
   "cell_type": "code",
   "execution_count": 1,
   "id": "c8bb0000-964c-44a3-bbfb-c16818d5a848",
   "metadata": {},
   "outputs": [],
   "source": [
    "import pandas as pd"
   ]
  },
  {
   "cell_type": "code",
   "execution_count": 6,
   "id": "6c1358f3-0885-4308-8140-3fec7540ef44",
   "metadata": {},
   "outputs": [
    {
     "name": "stdout",
     "output_type": "stream",
     "text": [
      "max temp: 32  min temp: 19\n"
     ]
    }
   ],
   "source": [
    "temperature = pd.Series([20, 19, 30, 28, 32 ])\n",
    "print('max temp:', temperature.max(),' min temp:', temperature.min())"
   ]
  },
  {
   "cell_type": "code",
   "execution_count": 9,
   "id": "f40c28a6-a97a-4bbf-9ca8-e21259c6f09a",
   "metadata": {},
   "outputs": [
    {
     "name": "stdout",
     "output_type": "stream",
     "text": [
      "Mon    20\n",
      "Tue    19\n",
      "Wed    30\n",
      "Thu    28\n",
      "Fri    32\n",
      "dtype: int64\n"
     ]
    }
   ],
   "source": [
    "temperature.index = ['Mon', 'Tue', 'Wed', 'Thu', 'Fri'] # aligns indexed strings to the temperatures\n",
    "print(temperature)"
   ]
  },
  {
   "cell_type": "code",
   "execution_count": 20,
   "id": "88e80626-2cdc-4de6-bccd-e0c8659db662",
   "metadata": {},
   "outputs": [
    {
     "name": "stdout",
     "output_type": "stream",
     "text": [
      "     name  price  quantity\n",
      "0     cup      1         3\n",
      "1  bottle     10         0\n",
      "2   juice      3         9\n"
     ]
    }
   ],
   "source": [
    "## dataframe\n",
    "\n",
    "d = {\n",
    "    \"name\": [\"cup\", \"bottle\", \"juice\"],\n",
    "    \"price\": [1, 10, 3],\n",
    "    \"quantity\": [3, 0, 9],\n",
    "}\n",
    "df = pd.DataFrame(d)\n",
    "print(df)\n"
   ]
  },
  {
   "cell_type": "code",
   "execution_count": 29,
   "id": "576a2aba-4282-4ba9-9651-f66a58f2c3ef",
   "metadata": {},
   "outputs": [
    {
     "name": "stdout",
     "output_type": "stream",
     "text": [
      "     name  price  quantity  total value\n",
      "0     cup      1         3            3\n",
      "1  bottle     10         0            0\n",
      "2   juice      3         9           27\n"
     ]
    }
   ],
   "source": [
    "df['total value'] = df['price'] * df['quantity']\n",
    "print(df)"
   ]
  },
  {
   "cell_type": "code",
   "execution_count": 31,
   "id": "0f7afb08-1e0f-4a12-9964-9958e92ebe31",
   "metadata": {},
   "outputs": [],
   "source": [
    "# reading from a csv\n",
    "\n",
    "df = pd.read_csv(\"students_with_scores.csv\")"
   ]
  },
  {
   "cell_type": "code",
   "execution_count": 35,
   "id": "e38af326-245c-439b-a557-19570b5885d5",
   "metadata": {},
   "outputs": [
    {
     "data": {
      "text/html": [
       "<div>\n",
       "<style scoped>\n",
       "    .dataframe tbody tr th:only-of-type {\n",
       "        vertical-align: middle;\n",
       "    }\n",
       "\n",
       "    .dataframe tbody tr th {\n",
       "        vertical-align: top;\n",
       "    }\n",
       "\n",
       "    .dataframe thead th {\n",
       "        text-align: right;\n",
       "    }\n",
       "</style>\n",
       "<table border=\"1\" class=\"dataframe\">\n",
       "  <thead>\n",
       "    <tr style=\"text-align: right;\">\n",
       "      <th></th>\n",
       "      <th>Name</th>\n",
       "      <th>School</th>\n",
       "      <th>Grade</th>\n",
       "      <th>Score</th>\n",
       "    </tr>\n",
       "  </thead>\n",
       "  <tbody>\n",
       "    <tr>\n",
       "      <th>0</th>\n",
       "      <td>Student1</td>\n",
       "      <td>West High</td>\n",
       "      <td>A</td>\n",
       "      <td>92</td>\n",
       "    </tr>\n",
       "    <tr>\n",
       "      <th>1</th>\n",
       "      <td>Student2</td>\n",
       "      <td>South High</td>\n",
       "      <td>F</td>\n",
       "      <td>6</td>\n",
       "    </tr>\n",
       "    <tr>\n",
       "      <th>2</th>\n",
       "      <td>Student3</td>\n",
       "      <td>North High</td>\n",
       "      <td>D</td>\n",
       "      <td>64</td>\n",
       "    </tr>\n",
       "    <tr>\n",
       "      <th>3</th>\n",
       "      <td>Student4</td>\n",
       "      <td>West High</td>\n",
       "      <td>B</td>\n",
       "      <td>88</td>\n",
       "    </tr>\n",
       "    <tr>\n",
       "      <th>4</th>\n",
       "      <td>Student5</td>\n",
       "      <td>West High</td>\n",
       "      <td>A</td>\n",
       "      <td>96</td>\n",
       "    </tr>\n",
       "    <tr>\n",
       "      <th>5</th>\n",
       "      <td>Student6</td>\n",
       "      <td>South High</td>\n",
       "      <td>A</td>\n",
       "      <td>91</td>\n",
       "    </tr>\n",
       "    <tr>\n",
       "      <th>6</th>\n",
       "      <td>Student7</td>\n",
       "      <td>North High</td>\n",
       "      <td>B</td>\n",
       "      <td>83</td>\n",
       "    </tr>\n",
       "    <tr>\n",
       "      <th>7</th>\n",
       "      <td>Student8</td>\n",
       "      <td>North High</td>\n",
       "      <td>C</td>\n",
       "      <td>78</td>\n",
       "    </tr>\n",
       "  </tbody>\n",
       "</table>\n",
       "</div>"
      ],
      "text/plain": [
       "       Name      School Grade  Score\n",
       "0  Student1   West High     A     92\n",
       "1  Student2  South High     F      6\n",
       "2  Student3  North High     D     64\n",
       "3  Student4   West High     B     88\n",
       "4  Student5   West High     A     96\n",
       "5  Student6  South High     A     91\n",
       "6  Student7  North High     B     83\n",
       "7  Student8  North High     C     78"
      ]
     },
     "execution_count": 35,
     "metadata": {},
     "output_type": "execute_result"
    }
   ],
   "source": [
    "df.head(8)"
   ]
  },
  {
   "cell_type": "code",
   "execution_count": 34,
   "id": "b4da339c-2ca2-4773-b9e4-4d764037de84",
   "metadata": {},
   "outputs": [
    {
     "data": {
      "text/html": [
       "<div>\n",
       "<style scoped>\n",
       "    .dataframe tbody tr th:only-of-type {\n",
       "        vertical-align: middle;\n",
       "    }\n",
       "\n",
       "    .dataframe tbody tr th {\n",
       "        vertical-align: top;\n",
       "    }\n",
       "\n",
       "    .dataframe thead th {\n",
       "        text-align: right;\n",
       "    }\n",
       "</style>\n",
       "<table border=\"1\" class=\"dataframe\">\n",
       "  <thead>\n",
       "    <tr style=\"text-align: right;\">\n",
       "      <th></th>\n",
       "      <th>Name</th>\n",
       "      <th>School</th>\n",
       "      <th>Grade</th>\n",
       "      <th>Score</th>\n",
       "    </tr>\n",
       "  </thead>\n",
       "  <tbody>\n",
       "    <tr>\n",
       "      <th>15</th>\n",
       "      <td>Student16</td>\n",
       "      <td>North High</td>\n",
       "      <td>C</td>\n",
       "      <td>76</td>\n",
       "    </tr>\n",
       "    <tr>\n",
       "      <th>16</th>\n",
       "      <td>Student17</td>\n",
       "      <td>South High</td>\n",
       "      <td>A</td>\n",
       "      <td>97</td>\n",
       "    </tr>\n",
       "    <tr>\n",
       "      <th>17</th>\n",
       "      <td>Student18</td>\n",
       "      <td>South High</td>\n",
       "      <td>C</td>\n",
       "      <td>72</td>\n",
       "    </tr>\n",
       "    <tr>\n",
       "      <th>18</th>\n",
       "      <td>Student19</td>\n",
       "      <td>South High</td>\n",
       "      <td>C</td>\n",
       "      <td>70</td>\n",
       "    </tr>\n",
       "    <tr>\n",
       "      <th>19</th>\n",
       "      <td>Student20</td>\n",
       "      <td>West High</td>\n",
       "      <td>A</td>\n",
       "      <td>93</td>\n",
       "    </tr>\n",
       "  </tbody>\n",
       "</table>\n",
       "</div>"
      ],
      "text/plain": [
       "         Name      School Grade  Score\n",
       "15  Student16  North High     C     76\n",
       "16  Student17  South High     A     97\n",
       "17  Student18  South High     C     72\n",
       "18  Student19  South High     C     70\n",
       "19  Student20   West High     A     93"
      ]
     },
     "execution_count": 34,
     "metadata": {},
     "output_type": "execute_result"
    }
   ],
   "source": [
    "df.tail()"
   ]
  },
  {
   "cell_type": "code",
   "execution_count": 37,
   "id": "5fb11f80-ddbc-4260-9fc2-51a7db5b8007",
   "metadata": {},
   "outputs": [
    {
     "name": "stdout",
     "output_type": "stream",
     "text": [
      "(20, 4)\n"
     ]
    }
   ],
   "source": [
    "# dataset shape\n",
    "shape = df.shape\n",
    "print(shape)"
   ]
  },
  {
   "cell_type": "code",
   "execution_count": 39,
   "id": "60f32f79-27c5-4f25-becb-22df2d6dfe41",
   "metadata": {},
   "outputs": [
    {
     "name": "stdout",
     "output_type": "stream",
     "text": [
      "Index(['Name', 'School', 'Grade', 'Score'], dtype='object')\n"
     ]
    }
   ],
   "source": [
    "# columns\n",
    "columns = df.columns\n",
    "print(columns)"
   ]
  },
  {
   "cell_type": "code",
   "execution_count": 48,
   "id": "19db0e4b-ec78-4f2d-af6c-acdca41226ca",
   "metadata": {},
   "outputs": [
    {
     "name": "stdout",
     "output_type": "stream",
     "text": [
      "           Score\n",
      "count  20.000000\n",
      "mean   80.050000\n",
      "std    19.789617\n",
      "min     6.000000\n",
      "25%    77.500000\n",
      "50%    83.000000\n",
      "75%    91.250000\n",
      "max    99.000000\n",
      "<bound method DataFrame.aggregate of          Name      School Grade  Score\n",
      "0    Student1   West High     A     92\n",
      "1    Student2  South High     F      6\n",
      "2    Student3  North High     D     64\n",
      "3    Student4   West High     B     88\n",
      "4    Student5   West High     A     96\n",
      "5    Student6  South High     A     91\n",
      "6    Student7  North High     B     83\n",
      "7    Student8  North High     C     78\n",
      "8    Student9   West High     B     81\n",
      "9   Student10   East High     B     89\n",
      "10  Student11   West High     C     78\n",
      "11  Student12   West High     A     99\n",
      "12  Student13   West High     B     84\n",
      "13  Student14   West High     B     81\n",
      "14  Student15  South High     B     83\n",
      "15  Student16  North High     C     76\n",
      "16  Student17  South High     A     97\n",
      "17  Student18  South High     C     72\n",
      "18  Student19  South High     C     70\n",
      "19  Student20   West High     A     93>\n"
     ]
    }
   ],
   "source": [
    "# stats summary\n",
    "describe = df.describe() # only picks up all the numerical values\n",
    "print(describe)\n",
    "aggr = df.agg\n",
    "print(aggr)"
   ]
  },
  {
   "cell_type": "code",
   "execution_count": 49,
   "id": "260d6f1f-4568-4eb3-8221-c80c2ffecd68",
   "metadata": {},
   "outputs": [
    {
     "name": "stdout",
     "output_type": "stream",
     "text": [
      "<class 'pandas.core.frame.DataFrame'>\n",
      "RangeIndex: 20 entries, 0 to 19\n",
      "Data columns (total 4 columns):\n",
      " #   Column  Non-Null Count  Dtype \n",
      "---  ------  --------------  ----- \n",
      " 0   Name    20 non-null     object\n",
      " 1   School  20 non-null     object\n",
      " 2   Grade   20 non-null     object\n",
      " 3   Score   20 non-null     int64 \n",
      "dtypes: int64(1), object(3)\n",
      "memory usage: 772.0+ bytes\n",
      "None\n"
     ]
    }
   ],
   "source": [
    "# info on the datatypes and missing values\n",
    "print(df.info())"
   ]
  },
  {
   "cell_type": "code",
   "execution_count": 67,
   "id": "1f1900f5-3e53-42ae-a02d-75fa81a006a6",
   "metadata": {},
   "outputs": [
    {
     "name": "stdout",
     "output_type": "stream",
     "text": [
      "Student1\n",
      "       Name      School\n",
      "0  Student1   West High\n",
      "1  Student2  South High\n",
      "2  Student3  North High\n",
      "3  Student4   West High\n"
     ]
    }
   ],
   "source": [
    "## Indexing / slicing: difference between loc vs iloc\n",
    "\n",
    "#.loc -> uses names / labels to get the locations and not by indexes / positions\n",
    "#.iloc-> uses numbers to do the same \n",
    "\n",
    "## single column\n",
    "# print(df[\"Name\"])\n",
    "\n",
    "## multiple columns\n",
    "#print(df[[\"Name\",\"School\"]])\n",
    "\n",
    "##row by label\n",
    "print(df.loc[0,'Name']) # 0 here is the first record in the name column\n",
    "\n",
    "## specific rows and columns\n",
    "print(df.loc[0:3,[\"Name\", \"School\"]]) # it's using the \n"
   ]
  },
  {
   "cell_type": "code",
   "execution_count": 66,
   "id": "c92cbe65-167d-461c-bdb5-482ce5eab09c",
   "metadata": {},
   "outputs": [
    {
     "name": "stdout",
     "output_type": "stream",
     "text": [
      "       Name      School Grade  Score\n",
      "0  Student1   West High     A     92\n",
      "1  Student2  South High     F      6\n",
      "2  Student3  North High     D     64\n"
     ]
    }
   ],
   "source": [
    "## .iloc\n",
    "#\n",
    "print(df.iloc[0:3])"
   ]
  },
  {
   "cell_type": "code",
   "execution_count": 96,
   "id": "82a48e9d-4ad1-469b-abc9-ef883445bedd",
   "metadata": {},
   "outputs": [
    {
     "name": "stdout",
     "output_type": "stream",
     "text": [
      "70\n",
      "         Name      School Grade  Score\n",
      "11  Student12   West High     A     99\n",
      "16  Student17  South High     A     97\n",
      "4    Student5   West High     A     96\n",
      "19  Student20   West High     A     93\n",
      "0    Student1   West High     A     92\n",
      "5    Student6  South High     A     91\n",
      "9   Student10   East High     B     89\n",
      "3    Student4   West High     B     88\n",
      "12  Student13   West High     B     84\n",
      "6    Student7  North High     B     83\n",
      "14  Student15  South High     B     83\n",
      "13  Student14   West High     B     81\n",
      "8    Student9   West High     B     81\n",
      "7    Student8  North High     C     78\n",
      "10  Student11   West High     C     78\n",
      "15  Student16  North High     C     76\n",
      "17  Student18  South High     C     72\n",
      "18  Student19  South High     C     70\n",
      "2    Student3  North High     D     64\n",
      "1    Student2  South High     F      6\n",
      "         Name      School Grade  Score\n",
      "0    Student1   West High     A     92\n",
      "3    Student4   West High     B     88\n",
      "4    Student5   West High     A     96\n",
      "5    Student6  South High     A     91\n",
      "6    Student7  North High     B     83\n",
      "8    Student9   West High     B     81\n",
      "9   Student10   East High     B     89\n",
      "11  Student12   West High     A     99\n",
      "12  Student13   West High     B     84\n",
      "13  Student14   West High     B     81\n",
      "14  Student15  South High     B     83\n",
      "16  Student17  South High     A     97\n",
      "19  Student20   West High     A     93\n"
     ]
    }
   ],
   "source": [
    "# Names and scored of first 3 students\n",
    "# print(df.loc[0:2,[\"Name\", \"Score\"]])\n",
    "\n",
    "# all students from a specific school\n",
    "# print(df.loc[df[\"School\"] == \"West High\"])\n",
    "\n",
    "# Scored of the last 2 students\n",
    "print(df.iloc[-2][\"Score\"])\n",
    "\n",
    "# sort by descending order\n",
    "print(df.sort_values(by = \"Score\", ascending=False))\n",
    "\n",
    "# filter students with scores above 80\n",
    "print(df[df[\"Score\"] > 80])"
   ]
  },
  {
   "cell_type": "code",
   "execution_count": null,
   "id": "c570b75a-2e9b-4f24-a423-9746cd275891",
   "metadata": {},
   "outputs": [],
   "source": []
  }
 ],
 "metadata": {
  "kernelspec": {
   "display_name": "Python 3 (ipykernel)",
   "language": "python",
   "name": "python3"
  },
  "language_info": {
   "codemirror_mode": {
    "name": "ipython",
    "version": 3
   },
   "file_extension": ".py",
   "mimetype": "text/x-python",
   "name": "python",
   "nbconvert_exporter": "python",
   "pygments_lexer": "ipython3",
   "version": "3.13.7"
  }
 },
 "nbformat": 4,
 "nbformat_minor": 5
}
