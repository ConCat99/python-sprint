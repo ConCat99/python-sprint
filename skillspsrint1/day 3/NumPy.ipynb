{
 "cells": [
  {
   "cell_type": "code",
   "execution_count": 2,
   "id": "e3dc8a70-3c81-4c8f-9874-b9ee8ec13503",
   "metadata": {},
   "outputs": [],
   "source": [
    "numbers = [1,2,3,4,5]\n",
    "print(numbers)"
   ]
  },
  {
   "cell_type": "code",
   "execution_count": 1,
   "id": "bf594dfb-8a9b-4622-9ebb-527cb96ddee7",
   "metadata": {},
   "outputs": [],
   "source": [
    "import numpy as np"
   ]
  },
  {
   "cell_type": "code",
   "execution_count": 4,
   "id": "5e5a3b0c-c6e2-4d2b-8aa7-a343733e0863",
   "metadata": {},
   "outputs": [],
   "source": [
    "array = np.array(numbers)"
   ]
  },
  {
   "cell_type": "code",
   "execution_count": 5,
   "id": "e87542d3-8685-417d-86ee-eb6d018f1c7a",
   "metadata": {},
   "outputs": [
    {
     "name": "stdout",
     "output_type": "stream",
     "text": [
      "[1 2 3 4 5]\n"
     ]
    }
   ],
   "source": [
    "print(array)"
   ]
  },
  {
   "cell_type": "code",
   "execution_count": 6,
   "id": "73def8e0-2307-492e-8f91-2eda882c904d",
   "metadata": {},
   "outputs": [
    {
     "name": "stdout",
     "output_type": "stream",
     "text": [
      "[ 2  4  6  8 10]\n"
     ]
    }
   ],
   "source": [
    "doubled = array * 2\n",
    "print(doubled)"
   ]
  },
  {
   "cell_type": "code",
   "execution_count": 7,
   "id": "90fd490b-bfdc-4ebb-8e99-99fb710a262c",
   "metadata": {},
   "outputs": [],
   "source": [
    "zeroes = np.zeros((2,3))"
   ]
  },
  {
   "cell_type": "code",
   "execution_count": 8,
   "id": "5b195996-0abc-4559-b576-f1052323b03d",
   "metadata": {},
   "outputs": [
    {
     "name": "stdout",
     "output_type": "stream",
     "text": [
      "[[0. 0. 0.]\n",
      " [0. 0. 0.]]\n"
     ]
    }
   ],
   "source": [
    "print(zeroes)"
   ]
  },
  {
   "cell_type": "code",
   "execution_count": 10,
   "id": "dc7fe6c1-6bd5-4eaf-8bd7-42bef45aced3",
   "metadata": {},
   "outputs": [
    {
     "name": "stdout",
     "output_type": "stream",
     "text": [
      "[1. 1. 1.]\n"
     ]
    }
   ],
   "source": [
    "ones = np.ones(3)\n",
    "print(ones)"
   ]
  },
  {
   "cell_type": "code",
   "execution_count": 12,
   "id": "ea8d9fdc-825d-44ed-ab07-716e3ee1632f",
   "metadata": {},
   "outputs": [
    {
     "name": "stdout",
     "output_type": "stream",
     "text": [
      "[0 3 6 9]\n"
     ]
    }
   ],
   "source": [
    "range_array = np.arange(0,10,3)\n",
    "print(range_array)"
   ]
  },
  {
   "cell_type": "code",
   "execution_count": 15,
   "id": "363b8408-f30e-4a1e-b366-191871a3b507",
   "metadata": {},
   "outputs": [
    {
     "name": "stdout",
     "output_type": "stream",
     "text": [
      "[0 1 2 3 4 5 6 7 8 9]\n"
     ]
    }
   ],
   "source": [
    "num_array = np.arange(0,10)\n",
    "print(num_array)"
   ]
  },
  {
   "cell_type": "code",
   "execution_count": 24,
   "id": "10e6ecf0-f87b-40ce-8c72-978bdb7540b4",
   "metadata": {},
   "outputs": [
    {
     "name": "stdout",
     "output_type": "stream",
     "text": [
      "[[1. 1. 1. 1.]\n",
      " [1. 1. 1. 1.]\n",
      " [1. 1. 1. 1.]\n",
      " [1. 1. 1. 1.]]\n"
     ]
    }
   ],
   "source": [
    "fours = np.ones((4,4))\n",
    "print(fours)"
   ]
  },
  {
   "cell_type": "code",
   "execution_count": 27,
   "id": "3c9f7578-6be9-44b1-8843-8533c61bd622",
   "metadata": {},
   "outputs": [
    {
     "name": "stdout",
     "output_type": "stream",
     "text": [
      "[0.   0.25 0.5  0.75 1.  ]\n"
     ]
    }
   ],
   "source": [
    "linespace = np.linspace(0,1,5)\n",
    "print(linespace)"
   ]
  },
  {
   "cell_type": "code",
   "execution_count": 31,
   "id": "ced42461-f2b7-4136-94bf-c955e288fe7b",
   "metadata": {},
   "outputs": [
    {
     "name": "stdout",
     "output_type": "stream",
     "text": [
      "[[1 2 3]\n",
      " [4 5 6]\n",
      " [7 8 9]]\n"
     ]
    }
   ],
   "source": [
    "matrix = np.array([\n",
    "    [1,2,3],\n",
    "    [4,5,6],\n",
    "    [7,8,9]\n",
    "])\n",
    "print(matrix)"
   ]
  },
  {
   "cell_type": "code",
   "execution_count": 33,
   "id": "801a0947-6656-47ec-9e73-2e23fc2d23bd",
   "metadata": {},
   "outputs": [
    {
     "name": "stdout",
     "output_type": "stream",
     "text": [
      "2\n"
     ]
    }
   ],
   "source": [
    "print(matrix[0,1])"
   ]
  },
  {
   "cell_type": "code",
   "execution_count": 35,
   "id": "30e52efd-1fb0-4671-8c5f-ca0c01f89201",
   "metadata": {},
   "outputs": [
    {
     "name": "stdout",
     "output_type": "stream",
     "text": [
      "[2 5 8]\n"
     ]
    }
   ],
   "source": [
    "print(matrix[:,1])"
   ]
  },
  {
   "cell_type": "code",
   "execution_count": 36,
   "id": "6213c50d-1856-44e4-b790-11dc9a68660d",
   "metadata": {},
   "outputs": [
    {
     "name": "stdout",
     "output_type": "stream",
     "text": [
      "[ 0  1  2  3  4  5  6  7  8  9 10]\n"
     ]
    }
   ],
   "source": [
    "num_array = np.arange(1,11)\n",
    "print(num_array)"
   ]
  },
  {
   "cell_type": "code",
   "execution_count": 39,
   "id": "24bd03b2-657c-4ae4-9c63-640972a868a3",
   "metadata": {},
   "outputs": [
    {
     "name": "stdout",
     "output_type": "stream",
     "text": [
      "[0 1 2 3 4]\n"
     ]
    }
   ],
   "source": [
    "print(num_array[0:5])"
   ]
  },
  {
   "cell_type": "markdown",
   "id": "78a4ad6c-4586-4aa0-90a3-6c15e476ebf4",
   "metadata": {},
   "source": [
    "getting the first 2 rows"
   ]
  },
  {
   "cell_type": "code",
   "execution_count": 58,
   "id": "94091cf0-dbb4-49dd-9a03-f11707f7386b",
   "metadata": {},
   "outputs": [
    {
     "name": "stdout",
     "output_type": "stream",
     "text": [
      "[[1 2 3]\n",
      " [4 5 6]]\n"
     ]
    }
   ],
   "source": [
    "print(matrix[:2,:])"
   ]
  },
  {
   "cell_type": "markdown",
   "id": "0fffe0aa-4766-4cbd-8202-0ced1c180f8b",
   "metadata": {},
   "source": [
    "From the matrix above, extract the bottom-right 2×2 sub-matrix."
   ]
  },
  {
   "cell_type": "code",
   "execution_count": 63,
   "id": "ad6794a0-be77-453d-b1a8-6b75a83e7863",
   "metadata": {},
   "outputs": [
    {
     "name": "stdout",
     "output_type": "stream",
     "text": [
      "[[5 6]\n",
      " [8 9]]\n"
     ]
    }
   ],
   "source": [
    "bottom_right = matrix[1:,1:]\n",
    "print(bottom_right)"
   ]
  },
  {
   "cell_type": "code",
   "execution_count": 68,
   "id": "764b7971-e474-436b-9773-742c12e62014",
   "metadata": {},
   "outputs": [
    {
     "name": "stdout",
     "output_type": "stream",
     "text": [
      "[ 1  2  3  4  5  6  7  8  9 10 11 12]\n"
     ]
    }
   ],
   "source": [
    "array_12 = np.arange(1,13)\n",
    "print(array_12)"
   ]
  },
  {
   "cell_type": "code",
   "execution_count": 72,
   "id": "688d8120-3690-4a34-8656-35a4b2ebd1ad",
   "metadata": {},
   "outputs": [
    {
     "name": "stdout",
     "output_type": "stream",
     "text": [
      "[[ 1  2  3  4]\n",
      " [ 5  6  7  8]\n",
      " [ 9 10 11 12]]\n"
     ]
    }
   ],
   "source": [
    "array12_shaped = array_12.reshape(3,4)\n",
    "print(array12_shaped)"
   ]
  },
  {
   "cell_type": "code",
   "execution_count": 80,
   "id": "54245f22-05e5-4aaf-a7f5-65180479cd52",
   "metadata": {},
   "outputs": [
    {
     "name": "stdout",
     "output_type": "stream",
     "text": [
      "[[ 2  3]\n",
      " [ 6  7]\n",
      " [10 11]]\n"
     ]
    }
   ],
   "source": [
    "mid_cols = array12_shaped[:,1:3]\n",
    "print(mid_cols)"
   ]
  },
  {
   "cell_type": "code",
   "execution_count": 81,
   "id": "0dd06c9e-0d81-4620-8058-11db7baaaf5d",
   "metadata": {},
   "outputs": [
    {
     "name": "stdout",
     "output_type": "stream",
     "text": [
      "[ 2  3  6  7 10 11]\n"
     ]
    }
   ],
   "source": [
    "flattened = mid_cols.ravel()\n",
    "print(flattened)"
   ]
  },
  {
   "cell_type": "code",
   "execution_count": 84,
   "id": "36ebaf0c-47a1-4481-ba1f-ad0d4229176e",
   "metadata": {},
   "outputs": [
    {
     "name": "stdout",
     "output_type": "stream",
     "text": [
      "[1 2 3 4]\n",
      "[10 20 30 40]\n"
     ]
    }
   ],
   "source": [
    "a = np.array([1,2,3,4])\n",
    "b = np.array([10,20,30,40])\n",
    "\n",
    "print(a)\n",
    "print(b)"
   ]
  },
  {
   "cell_type": "code",
   "execution_count": 85,
   "id": "31f41e4b-532e-4d8f-8ed8-82706dbb6bc6",
   "metadata": {},
   "outputs": [
    {
     "name": "stdout",
     "output_type": "stream",
     "text": [
      "[11 22 33 44]\n"
     ]
    }
   ],
   "source": [
    "print(a+b)"
   ]
  },
  {
   "cell_type": "code",
   "execution_count": 102,
   "id": "b09f7067-6bd1-41ff-8ef3-6eac4aabfda3",
   "metadata": {},
   "outputs": [],
   "source": [
    "a = np.array([5,10,15])\n",
    "b = np.array([2,4,6])"
   ]
  },
  {
   "cell_type": "code",
   "execution_count": 94,
   "id": "43c761c6-85a7-47ad-8bfc-bf4ec206517f",
   "metadata": {},
   "outputs": [
    {
     "name": "stdout",
     "output_type": "stream",
     "text": [
      "[5, 10, 15, 2, 4, 6]\n"
     ]
    }
   ],
   "source": [
    "print(a+b)"
   ]
  },
  {
   "cell_type": "code",
   "execution_count": 106,
   "id": "d5194b63-6fa6-4c6d-9c6d-bf7f6581dafe",
   "metadata": {},
   "outputs": [
    {
     "name": "stdout",
     "output_type": "stream",
     "text": [
      "[ 125 1000 3375]\n"
     ]
    }
   ],
   "source": [
    "cube = a**3\n",
    "print(cube)"
   ]
  },
  {
   "cell_type": "code",
   "execution_count": 109,
   "id": "b6f2c2b3-84bc-49a3-ad9a-8501226df4bf",
   "metadata": {},
   "outputs": [
    {
     "name": "stdout",
     "output_type": "stream",
     "text": [
      "[11 12 13 14 15]\n"
     ]
    }
   ],
   "source": [
    "Broad = np.array([1,2,3,4,5])\n",
    "\n",
    "#Broadcasting: stretching and applying the action across each item\n",
    "# ie.[10,10,10,10,10]\n",
    "# map vs broadcast?\n",
    "\n",
    "\n",
    "print(Broad + 10)"
   ]
  },
  {
   "cell_type": "markdown",
   "id": "4c27065d-3cb4-45ec-a31f-d5c57577c416",
   "metadata": {},
   "source": [
    "Excercise: Multiply an array [2, 4, 6, 8] by 0.5.<br>\n",
    "Create a 3×3 matrix and add np.array([1, 2, 3]) to it.<br>\n",
    "Create a 2×3 matrix and add 10 to all elements.<br>"
   ]
  },
  {
   "cell_type": "code",
   "execution_count": 121,
   "id": "262803f6-4b8b-4ec8-9a17-a0d47507f522",
   "metadata": {},
   "outputs": [
    {
     "name": "stdout",
     "output_type": "stream",
     "text": [
      "[1. 2. 3. 4.]\n"
     ]
    }
   ],
   "source": [
    "array_2 = np.array([2,4,6,8])\n",
    "print(array_2*0.5)"
   ]
  },
  {
   "cell_type": "code",
   "execution_count": 135,
   "id": "e4cc104b-e81c-4ab4-b9f1-e64c99755d33",
   "metadata": {},
   "outputs": [
    {
     "name": "stdout",
     "output_type": "stream",
     "text": [
      "[[1 2 3]\n",
      " [4 5 6]\n",
      " [7 8 9]]\n"
     ]
    }
   ],
   "source": [
    "matrix_three = np.arange(1,10).reshape((3,3))\n",
    "print(matrix_three)"
   ]
  },
  {
   "cell_type": "code",
   "execution_count": 136,
   "id": "714e88ef-4eac-40bb-b430-3cd5796cb478",
   "metadata": {},
   "outputs": [
    {
     "name": "stdout",
     "output_type": "stream",
     "text": [
      "[[ 2  4  6]\n",
      " [ 5  7  9]\n",
      " [ 8 10 12]]\n"
     ]
    }
   ],
   "source": [
    "print(np.array([1,2,3]) + matrix_three) "
   ]
  },
  {
   "cell_type": "code",
   "execution_count": 144,
   "id": "bddabc62-b945-401d-a937-338584e56002",
   "metadata": {},
   "outputs": [
    {
     "name": "stdout",
     "output_type": "stream",
     "text": [
      "python array time 0.5877499580383301\n"
     ]
    }
   ],
   "source": [
    "import time\n",
    "\n",
    "size=10_000_000\n",
    "\n",
    "list_1 = list(range(size))\n",
    "start = time.time() #time is a function\n",
    "\n",
    "#we're creating a loop and looping over that list, then print)\n",
    "list_2 = [x * 2 for x in list_1]\n",
    "print('python array time',time.time() - start) #time just tells us how long it took to multiply the list by 2)"
   ]
  },
  {
   "cell_type": "code",
   "execution_count": 140,
   "id": "e1af083f-9bbc-4612-856d-8a967c8a0983",
   "metadata": {},
   "outputs": [
    {
     "name": "stdout",
     "output_type": "stream",
     "text": [
      "Numpy array time: 0.0017788410186767578\n"
     ]
    }
   ],
   "source": [
    "numpy_1 = np.arange(size) # <- setting list size\n",
    "start_1 = time.time()\n",
    "numpy_2 = numpy_1 * 2 #<- the action\n",
    "print('Numpy array time:', time.time() - start_1)"
   ]
  },
  {
   "cell_type": "code",
   "execution_count": 145,
   "id": "eda02f3e-f2ae-4043-92c2-fc8f08da7a20",
   "metadata": {},
   "outputs": [
    {
     "name": "stdout",
     "output_type": "stream",
     "text": [
      "[2 1 2 6 5 4 2 2 3 1]\n"
     ]
    }
   ],
   "source": [
    "dice = np.random.randint(1,7, size=10)\n",
    "print(dice)"
   ]
  },
  {
   "cell_type": "markdown",
   "id": "249072b0-276d-46a0-863a-f06155656c0d",
   "metadata": {},
   "source": [
    "Exercise<br>\n",
    "Generate 20 dice rolls and find the min and max.<br>\n",
    "Create an array of 10 random floats between 0 and 10. - Why do we have to use uniform <br>\n",
    "Generate 1000 samples from a normal distribution and inspect the first 10.<br>"
   ]
  },
  {
   "cell_type": "code",
   "execution_count": 155,
   "id": "bab78ffb-fe3a-4c15-9fa5-fb90c108384f",
   "metadata": {},
   "outputs": [
    {
     "name": "stdout",
     "output_type": "stream",
     "text": [
      "[4 5 6 6 1 1 2 3 2 6 3 5 2 5 6 6 5 1 1 6]\n",
      "min value: 1\n",
      "max value: 6\n"
     ]
    }
   ],
   "source": [
    "rolls_20 = np.random.randint(1,7, size = 20)\n",
    "print(rolls_20)\n",
    "dice_min = np.min(rolls_20,)\n",
    "dice_max = np.max(rolls_20)\n",
    "print('min value:', dice_min)\n",
    "print('max value:', dice_max)"
   ]
  },
  {
   "cell_type": "code",
   "execution_count": 156,
   "id": "bff4f2a9-22a4-4a03-9593-3c1c3af0755a",
   "metadata": {},
   "outputs": [
    {
     "name": "stdout",
     "output_type": "stream",
     "text": [
      "[9.21412779 1.14740329 6.87520278 2.99221038 0.74875873 4.78879776\n",
      " 0.73238163 8.33317294 2.61622087 0.53380368]\n"
     ]
    }
   ],
   "source": [
    "rand_floats = np.random.uniform(0,10, size = 10)\n",
    "print(rand_floats)"
   ]
  },
  {
   "cell_type": "code",
   "execution_count": 154,
   "id": "36c096ce-029b-4445-abce-34b8d3a5b354",
   "metadata": {},
   "outputs": [
    {
     "name": "stdout",
     "output_type": "stream",
     "text": [
      "[-0.71149111 -0.20300748  1.3023775  -0.10348481  0.1729194  -0.68223039\n",
      "  0.76071209  1.72150702  0.66112368  0.47744067]\n"
     ]
    }
   ],
   "source": [
    "rand_dist= np.random.randn(1000)\n",
    "print(rand_dist[0:10])"
   ]
  },
  {
   "cell_type": "code",
   "execution_count": 157,
   "id": "17343dbb-a441-4a71-b586-d9ecd199e1e3",
   "metadata": {},
   "outputs": [
    {
     "name": "stdout",
     "output_type": "stream",
     "text": [
      "sum =  55\n",
      "mean =  5.5\n",
      "median =  5.5\n",
      "stand =  2.8722813232690143\n"
     ]
    }
   ],
   "source": [
    "stats_arr = np.array([1,2,3,4,5,6,7,8,9,10])\n",
    "\n",
    "print('sum = ', np.sum(stats_arr))\n",
    "print('mean = ', np.mean(stats_arr))\n",
    "print('median = ', np.median(stats_arr))\n",
    "print('stand = ', np.std(stats_arr))"
   ]
  },
  {
   "cell_type": "markdown",
   "id": "f6db615d-f648-40f2-b39a-14d0c99b0aec",
   "metadata": {},
   "source": [
    "Exercises<br>\n",
    "Compute statistics for the dice rolls you generated and print them <br>\n",
    "Create an array of 50 random integers between 10 and 100 and compute mean, median, and standard deviation, print them all out<br>"
   ]
  },
  {
   "cell_type": "code",
   "execution_count": 163,
   "id": "fa73561b-7f33-4772-af56-3214582536c6",
   "metadata": {},
   "outputs": [
    {
     "name": "stdout",
     "output_type": "stream",
     "text": [
      "roll20 sum = 76\n",
      "roll20 mean = 3.8\n",
      "roll20 median = 4.5\n",
      "roll20 stand = 1.9646882704388502\n"
     ]
    }
   ],
   "source": [
    "print('roll20 sum =', np.sum(rolls_20))\n",
    "print('roll20 mean =', np.mean(rolls_20))\n",
    "print('roll20 median =', np.median(rolls_20))\n",
    "print('roll20 stand =', np.std(rolls_20))"
   ]
  },
  {
   "cell_type": "code",
   "execution_count": 166,
   "id": "33bfce31-4e0f-43dd-ae90-2be0571f705d",
   "metadata": {},
   "outputs": [
    {
     "name": "stdout",
     "output_type": "stream",
     "text": [
      "[62 70 99 94 93 93 81 16 73 39 35 42 10 77 37 44 95 30 82 90 62 59 99 65\n",
      " 59 29 18 20 35 84 91 39 18 98 96 36 28 97 19 60 49 36 30 18 38 67 68 19\n",
      " 79 29]\n",
      "50 sum = 2807\n",
      "50 mean = 56.14\n",
      "50 median = 59.0\n",
      "50 stand = 28.22340163764814\n"
     ]
    }
   ],
   "source": [
    "rand_50 = np.random.randint(10,101,50)\n",
    "print(rand_50)\n",
    "print('50 sum =', np.sum(rand_50))\n",
    "print('50 mean =', np.mean(rand_50))\n",
    "print('50 median =', np.median(rand_50))\n",
    "print('50 stand =', np.std(rand_50))"
   ]
  },
  {
   "cell_type": "code",
   "execution_count": 167,
   "id": "be9c9a3a-0589-4244-b6ac-3cbdceb1c850",
   "metadata": {},
   "outputs": [
    {
     "name": "stdout",
     "output_type": "stream",
     "text": [
      "[1 2 3]\n",
      "[4 5 6]\n"
     ]
    }
   ],
   "source": [
    "stack_1 = np.array([1,2,3])\n",
    "stack_2 = np.array([4,5,6])\n",
    "\n",
    "print(stack_1)\n",
    "print(stack_2)"
   ]
  },
  {
   "cell_type": "code",
   "execution_count": 170,
   "id": "d8f907cb-b55c-43c4-8300-797427d772be",
   "metadata": {},
   "outputs": [
    {
     "name": "stdout",
     "output_type": "stream",
     "text": [
      "[[1 2 3]\n",
      " [4 5 6]]\n"
     ]
    }
   ],
   "source": [
    "#vstack = vertical stack, hstack = horizontal stack\n",
    "vstacked = np.vstack([stack_1,stack_2])\n",
    "print(vstacked)"
   ]
  },
  {
   "cell_type": "markdown",
   "id": "142dbc32-4292-49e4-8206-68ba10f426f0",
   "metadata": {},
   "source": [
    "Exercise<br>\n",
    "Create a 1D array of 16 random integers and reshape it to 4×4. <br>\n",
    "Create two new arrays manually using np.array. Stack them two 2×2 arrays both vertically and horizontally. <br>\n",
    "Generate 2 sets of 5 dice rolls. Stack them into a 2×5 array.<br>"
   ]
  },
  {
   "cell_type": "code",
   "execution_count": 189,
   "id": "9eca5cf1-2ed5-4e1b-8cd0-ffcac9274b1e",
   "metadata": {},
   "outputs": [
    {
     "name": "stdout",
     "output_type": "stream",
     "text": [
      "[[ 9  7  2  5]\n",
      " [ 2  5 12 12]\n",
      " [12 13 11 13]\n",
      " [15  4 13  8]]\n"
     ]
    }
   ],
   "source": [
    "rand_16 = np.random.randint(1,16,16).reshape(4,4)\n",
    "print(rand_16)"
   ]
  },
  {
   "cell_type": "code",
   "execution_count": 190,
   "id": "1f894aaf-88de-42cc-b365-b8bfa8a50d48",
   "metadata": {},
   "outputs": [
    {
     "name": "stdout",
     "output_type": "stream",
     "text": [
      "[[1 2 3]\n",
      " [4 5 6]] [[1 2 3 4 5 6]]\n"
     ]
    }
   ],
   "source": [
    "top_arr = np.array([[1,2,3]])\n",
    "low_arr = np.array([[4,5,6]])\n",
    "v_stk = np.vstack([top_arr, low_arr])\n",
    "h_stk = np.hstack([top_arr, low_arr])\n",
    "print(v_stk, h_stk)"
   ]
  },
  {
   "cell_type": "code",
   "execution_count": 188,
   "id": "5709d371-6ea9-4605-bbb4-ff5b15343e99",
   "metadata": {},
   "outputs": [
    {
     "name": "stdout",
     "output_type": "stream",
     "text": [
      "[1 5 1 5 5] [2 5 1 6 2]\n",
      "[[1 5 1 5 5]\n",
      " [2 5 1 6 2]]\n",
      "h dice stack [1 5 1 5 5 2 5 1 6 2]\n"
     ]
    }
   ],
   "source": [
    "dice_1 = np.random.randint(1,7, size = 5)\n",
    "dice_2 = np.random.randint(1,7, size = 5)\n",
    "print(dice_1,dice_2)\n",
    "v_dice_stk = np.vstack((dice_1, dice_2))\n",
    "h_dice_stk = np.hstack((dice_1, dice_2))\n",
    "print(v_dice_stk)\n",
    "print('h dice stack',h_dice_stk)"
   ]
  },
  {
   "cell_type": "code",
   "execution_count": null,
   "id": "15500bb6-f487-45a0-80a2-e0f8f2ce4f7b",
   "metadata": {},
   "outputs": [],
   "source": []
  },
  {
   "cell_type": "code",
   "execution_count": null,
   "id": "676e10a3-6932-4814-82dd-856ac093487b",
   "metadata": {},
   "outputs": [],
   "source": []
  }
 ],
 "metadata": {
  "kernelspec": {
   "display_name": "Python 3 (ipykernel)",
   "language": "python",
   "name": "python3"
  },
  "language_info": {
   "codemirror_mode": {
    "name": "ipython",
    "version": 3
   },
   "file_extension": ".py",
   "mimetype": "text/x-python",
   "name": "python",
   "nbconvert_exporter": "python",
   "pygments_lexer": "ipython3",
   "version": "3.13.7"
  }
 },
 "nbformat": 4,
 "nbformat_minor": 5
}
